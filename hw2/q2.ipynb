{
 "cells": [
  {
   "cell_type": "code",
   "execution_count": 6,
   "metadata": {},
   "outputs": [],
   "source": [
    "import numpy as np\n",
    "import matplotlib.pyplot as plt\n",
    "def cost_function(b0, b1, x, y):\n",
    "    # assume x and y are in vector form\n",
    "    # x = np.array([[1], [2], [3]])\n",
    "    # y = np.array([[1], [2], [3]])\n",
    "    # x = x.reshape(-1,1)\n",
    "    m = len(x)\n",
    "    a = np.ones(np.shape(x))\n",
    "    x = np.hstack((a, x))\n",
    "    theta = np.array([b0, b1])\n",
    "    \n",
    "    h_x = x.dot(theta).reshape(-1,1)\n",
    "    cost = (1/(2*m))* np.sum(np.square(h_x-y))\n",
    "    return cost"
   ]
  },
  {
   "cell_type": "code",
   "execution_count": 7,
   "metadata": {},
   "outputs": [],
   "source": [
    "def gradient_function(b0, b1, x, y):\n",
    "    # assum x and y are in vector form\n",
    "    # x = np.array([[1], [2], [3]])\n",
    "    m = len(x)\n",
    "    a = np.ones(np.shape(x))\n",
    "    X = np.hstack((a, x))\n",
    "    theta = np.array([b0, b1])\n",
    "    \n",
    "    h_x = X.dot(theta).reshape(-1,1)\n",
    "    \n",
    "    gradient = (1/m)*(x.T.dot(h_x-y))\n",
    "    return gradient[0][0]"
   ]
  },
  {
   "cell_type": "code",
   "execution_count": 28,
   "metadata": {},
   "outputs": [],
   "source": [
    "def gradient_descent(x, y, b0, b1, learning_rate, iterations):\n",
    "    cost_hist = []\n",
    "    theta = np.array([b0, b1])\n",
    "    c_prev = np.inf\n",
    "    for i in range(iterations):\n",
    "        theta = theta - (learning_rate*gradient_function(theta[0], theta[1], x, y))\n",
    "        cost = cost_function(theta[0], theta[1], x, y)\n",
    "        if c_prev-cost < 5e-7:\n",
    "            return theta, cost_hist, i\n",
    "        c_prev = cost\n",
    "        cost_hist.append(cost)\n",
    "        \n",
    "    return theta, cost_hist, i"
   ]
  },
  {
   "cell_type": "code",
   "execution_count": 29,
   "metadata": {},
   "outputs": [],
   "source": [
    "def import_data(filename:str):\n",
    "    #imports data from a numpy file (.npy) and returns data\n",
    "    #Here filename should have a .npy extension\n",
    "    data = np.load(filename, allow_pickle=True)\n",
    "    return data"
   ]
  },
  {
   "cell_type": "code",
   "execution_count": 30,
   "metadata": {},
   "outputs": [
    {
     "data": {
      "image/png": "[encoded data removed]",
      "text/plain": [
       "<Figure size 432x288 with 1 Axes>"
      ]
     },
     "metadata": {
      "needs_background": "light"
     },
     "output_type": "display_data"
    }
   ],
   "source": [
    "data = import_data('data.npy')\n",
    "x = data[:, 0].reshape(-1,1)\n",
    "y = data[:, 1].reshape(-1,1)\n",
    "b0, b1 = 15, 10\n",
    "\n",
    "theta, cost_hist, itr = gradient_descent(x, y, b0, b1, learning_rate=0.0001, iterations=10000)\n",
    "\n",
    "plt.figure()\n",
    "plt.plot(x, y, 'b.')\n",
    "a = np.ones(np.shape(x))\n",
    "X = np.hstack((a, x))\n",
    "Y = X.dot(theta).reshape(-1,1)\n",
    "\n",
    "plt.plot(x, Y, 'r')\n",
    "plt.xlabel('x')\n",
    "plt.ylabel('y')\n",
    "plt.show()"
   ]
  },
  {
   "cell_type": "code",
   "execution_count": 31,
   "metadata": {},
   "outputs": [
    {
     "data": {
      "image/png": "[encoded data removed]",
      "text/plain": [
       "<Figure size 432x288 with 3 Axes>"
      ]
     },
     "metadata": {
      "needs_background": "light"
     },
     "output_type": "display_data"
    }
   ],
   "source": [
    "theta_1, cost_hist_1, itr_1 = gradient_descent(x, y, b0, b1, learning_rate=0.0005, iterations=10000)\n",
    "theta_2, cost_hist_2, itr_2 = gradient_descent(x, y, b0, b1, learning_rate=0.001, iterations=10000)\n",
    "figure, axes = plt.subplots(nrows=1, ncols=3)\n",
    "axes[0].plot(np.arange(len(cost_hist)), cost_hist, 'b-')\n",
    "axes[0].set_title(r'$\\alpha$=0.0001')\n",
    "axes[1].plot(np.arange(len(cost_hist_1)), cost_hist_1, 'b-')\n",
    "axes[1].set_title(r'$\\alpha$=0.0005')\n",
    "axes[2].plot(np.arange(len(cost_hist_2)), cost_hist_2, 'b-')\n",
    "axes[2].set_title(r'$\\alpha$=0.001')\n",
    "#the learning rate is too high, so we are taking too large steps and jumping over global minim\n",
    "\n",
    "# axes[0].plot(x, Y, 'r')\n",
    "\n",
    "\n",
    "for ax in axes.flat:\n",
    "    ax.set(xlabel='iterations', ylabel='cost')\n",
    "\n",
    "for ax in axes.flat:\n",
    "    ax.label_outer()\n",
    "\n",
    "plt.show()"
   ]
  },
  {
   "cell_type": "markdown",
   "metadata": {},
   "source": [
    "The learning rate at 0.0001 seems to be the best because it converges with a shorter number of iterations. The learning rate at 0.001 is the worst here because of \n",
    "//if c_prev-cost < 5e-7:\n",
    "//      return theta, cost_hist, i//\n",
    "\n",
    "This was not able to progress because the cost was increasing. The jump steps were too high and the gradient exploded."
   ]
  },
  {
   "cell_type": "code",
   "execution_count": 34,
   "metadata": {},
   "outputs": [],
   "source": [
    "def mini_batch_gradient_descent(x, y, b0, b1, learning_rate, iterations, batch_size):\n",
    "    theta = np.array([b0, b1])\n",
    "    m = len(x)\n",
    "    # batch_num = int(m/batch_size)\n",
    "    cost_hist = []\n",
    "    c_prev = np.inf\n",
    "    for j in range(iterations):\n",
    "        idx = np.random.randint(0, m, size=(20))\n",
    "        x_j = x[idx]\n",
    "        y_j = y[idx]\n",
    "        theta = theta - (learning_rate*gradient_function(theta[0], theta[1], x_j, y_j))\n",
    "        cost = cost_function(theta[0], theta[1], x_j, y_j)\n",
    "        if c_prev-cost < 5e-7:\n",
    "            return theta, cost_hist, j\n",
    "        c_prev = cost\n",
    "        cost_hist.append(cost)\n",
    "\n",
    "    return theta, cost_hist, j"
   ]
  },
  {
   "cell_type": "code",
   "execution_count": 36,
   "metadata": {},
   "outputs": [
    {
     "data": {
      "text/plain": [
       "Text(0, 0.5, 'cost')"
      ]
     },
     "execution_count": 36,
     "metadata": {},
     "output_type": "execute_result"
    },
    {
     "data": {
      "image/png": "[encoded data removed]",
      "text/plain": [
       "<Figure size 432x288 with 1 Axes>"
      ]
     },
     "metadata": {
      "needs_background": "light"
     },
     "output_type": "display_data"
    }
   ],
   "source": [
    "data = import_data('data.npy')\n",
    "x = data[:, 0].reshape(-1,1)\n",
    "y = data[:, 1].reshape(-1,1)\n",
    "b0, b1 = 15, 10\n",
    "\n",
    "theta, cost_hist, it = mini_batch_gradient_descent(x, y, b0, b1, learning_rate=0.0001, iterations=10000, batch_size=20)\n",
    "plt.figure()\n",
    "plt.plot(np.arange(len(cost_hist)), cost_hist, 'b-')\n",
    "plt.title(r'$\\alpha$=0.0001, iterations=10000, batch_size=20')\n",
    "plt.xlabel('iterations')\n",
    "plt.ylabel('cost')"
   ]
  },
  {
   "cell_type": "markdown",
   "metadata": {},
   "source": [
    "The mini batch reduces the number of iterations till convergence than the regular gradient descent function."
   ]
  },
  {
   "cell_type": "code",
   "execution_count": null,
   "metadata": {},
   "outputs": [],
   "source": []
  }
 ],
 "metadata": {
  "kernelspec": {
   "display_name": "Python 3",
   "language": "python",
   "name": "python3"
  },
  "language_info": {
   "codemirror_mode": {
    "name": "ipython",
    "version": 3
   },
   "file_extension": ".py",
   "mimetype": "text/x-python",
   "name": "python",
   "nbconvert_exporter": "python",
   "pygments_lexer": "ipython3",
   "version": "3.8.3"
  }
 },
 "nbformat": 4,
 "nbformat_minor": 4
}
