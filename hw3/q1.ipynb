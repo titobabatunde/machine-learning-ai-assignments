{
 "cells": [
  {
   "cell_type": "markdown",
   "metadata": {},
   "source": [
    "### Important Note for question1 !\n",
    "- Please **do not** change the default variable names in this problem, as we will use them in different parts.\n",
    "- The default variables are initially set to \"None\".\n",
    "- You only need to modify code in the \"TODO\" part. We added a lot of \"assertions\" to check your code. **Do not** modify them."
   ]
  },
  {
   "cell_type": "code",
   "execution_count": 6,
   "metadata": {},
   "outputs": [],
   "source": [
    "# load packages\n",
    "import numpy as np\n",
    "import pandas as pd\n",
    "import time\n",
    "from sklearn.naive_bayes import GaussianNB"
   ]
  },
  {
   "cell_type": "markdown",
   "metadata": {},
   "source": [
    "## P1. Load data and plot\n",
    "### TODO\n",
    "- Load train and test data, and split them into inputs(trainX, testX) and labels(trainY, testY)\n",
    "\n",
    "\n"
   ]
  },
  {
   "cell_type": "code",
   "execution_count": 8,
   "metadata": {},
   "outputs": [],
   "source": [
    "# Use pandas to load q1_train.csv and q1_test.csv\n",
    "# Each data point has 200 features(X), followed by 1 label(Y)\n",
    "train = pd.read_csv(\"q1_train.csv\")\n",
    "test = pd.read_csv(\"q1_test.csv\")\n",
    "\n",
    "#### TODO ####\n",
    "trainX = train.values[:, :200]\n",
    "trainY = train.values[:, -1]\n",
    "testX = test.values[:, :200]\n",
    "testY = test.values[:, -1]\n",
    "##############\n",
    "\n",
    "assert(len(trainX.shape) == 2)\n",
    "assert(len(trainY.shape) == 1)\n",
    "assert(trainX.shape[1] == 200)"
   ]
  },
  {
   "cell_type": "markdown",
   "metadata": {},
   "source": [
    "## P2. Write your Gaussian NB solver\n",
    "### TODO\n",
    "- Finish the myNBSolver() function. \n",
    "    - Compute P(y == 0) and P(y == 1), saved in \"py0\" and \"py1\"\n",
    "    - Compute mean/variance of trainX for both y = 0 and y = 1, saved in \"mean0\", \"var0\", \"mean1\" and \"var1\"\n",
    "        - Each of them should have shape (N_train, M), where N_train is number of train samples and M is number of features.\n",
    "    - Compute P(xi | y == 0) and P(xi | y == 1), compare and save **binary** prediction in \"train_pred\" and \"test_pred\"\n",
    "    - Compute train accuracy and test accuracy, saved in \"train_acc\" and \"test_acc\".\n",
    "    - Return train accuracy and test accuracy."
   ]
  },
  {
   "cell_type": "code",
   "execution_count": 17,
   "metadata": {},
   "outputs": [],
   "source": [
    "def myNBSolver(trainX, trainY, testX, testY):\n",
    "    \n",
    "    N_train = trainX.shape[0]\n",
    "    N_test = testX.shape[0]\n",
    "    M = trainX.shape[1]\n",
    "    \n",
    "    m = np.ones((2, M))\n",
    "    v = np.ones((2, M))\n",
    "    trainY = trainY.astype(int)\n",
    "    freq_0 = np.bincount(trainY)[np.nonzero(np.bincount(trainY))[0]][0]\n",
    "    # print(freq_0) #frequency of y == 0\n",
    "\n",
    "    \n",
    "    #### TODO ####\n",
    "    # Compute P(y == 0) and P(y == 1)\n",
    "    \n",
    "    py0 = freq_0/N_train\n",
    "    py1 = (N_train-freq_0)/N_train\n",
    "    \n",
    "    ##############\n",
    "    print(\"Total probablity is %.2f. Should be equal to 1.\" %(py0 + py1))\n",
    "\n",
    "    #### TODO ####\n",
    "    # Compute mean/var for each label\n",
    "\n",
    "    trainX0 = np.ones((freq_0, M))\n",
    "    trainX1 = np.ones((N_train-freq_0, M))\n",
    "\n",
    "    #initialize index\n",
    "    idx_0 = 0\n",
    "    idx_1 = 0\n",
    "    for i in range(0, N_train):\n",
    "        if trainY[i] == 0:\n",
    "            trainX0[idx_0] = trainX[i]\n",
    "            idx_0 = idx_0 + 1\n",
    "        else:\n",
    "            trainX1[idx_1] = trainX[i]\n",
    "            idx_1 = idx_1 + 1\n",
    "    for j in range(0, M):\n",
    "        m[0][j] = np.mean(trainX0.T[j])\n",
    "        v[0][j] = np.var(trainX0.T[j])\n",
    "        m[1][j] = np.mean(trainX1.T[j])\n",
    "        v[1][j] = np.var(trainX1.T[j])\n",
    "\n",
    "    mean0 = m[0, :]\n",
    "    mean1 = m[1, :]\n",
    "    var0 = v[0, :]\n",
    "    var1 = v[1, :]\n",
    "    \n",
    "    ##############\n",
    "    assert(mean0.shape[0] == M)\n",
    "    \n",
    "    #### TODO #### TRAIN\n",
    "    # Compute P(xi|y == 0) and P(xi|y == 1), compare and make prediction\n",
    "    # This part may spend 5 - 10 minutes or even more if you use for loop, so feel free to \n",
    "    # print something (like step number) to check the progress\n",
    "    \n",
    "    p_0 = np.exp(-np.square(trainX-mean0)/(2*var0))*(1/(np.sqrt(2*np.pi*var0)))\n",
    "    p_1 = np.exp(-np.square(trainX-mean1)/(2*var1))*(1/(np.sqrt(2*np.pi*var1)))\n",
    "    prod0 = np.prod(p_0, axis=1)\n",
    "    prod0 = prod0 * py0\n",
    "\n",
    "    prod1 = np.prod(p_0, axis=1)\n",
    "    prod1 = prod1 * py1\n",
    "    train_pred = 1*(prod1 > prod0)\n",
    " \n",
    "    \n",
    "    p_0 = np.exp(-np.square(testX-mean0)/(2*var0))*(1/(np.sqrt(2*np.pi*var0)))\n",
    "    p_1 = np.exp(-np.square(testX-mean1)/(2*var1))*(1/(np.sqrt(2*np.pi*var1)))\n",
    "    prod0 = np.prod(p_0, axis=1)\n",
    "    prod0 = prod0 * py0\n",
    "\n",
    "    prod1 = np.prod(p_0, axis=1)\n",
    "    prod1 = prod1 * py1\n",
    "    test_pred = 1*(prod1 > prod0)\n",
    "    \n",
    "    ### Compute test accuracy\n",
    "    count_train = 0\n",
    "    for i in range(train_pred.shape[0]):\n",
    "        count_train += int(train_pred[i] == trainY[i])\n",
    "    train_acc = count_train/train_pred.shape[0]\n",
    "    \n",
    "    count_test = 0\n",
    "    for i in range(test_pred.shape[0]):\n",
    "        count_test += int(test_pred[i] == testY[i])\n",
    "    test_acc = count_test/test_pred.shape[0]\n",
    "    \n",
    "    ##############\n",
    "    assert(train_pred[0] == 0 or train_pred[0] == 1)\n",
    "    assert(test_pred[0] == 0 or test_pred[0] == 1)\n",
    "    \n",
    "\n",
    "    \n",
    "    return train_acc, test_acc"
   ]
  },
  {
   "cell_type": "code",
   "execution_count": 18,
   "metadata": {},
   "outputs": [
    {
     "name": "stdout",
     "output_type": "stream",
     "text": [
      "Total probablity is 1.00. Should be equal to 1.\n",
      "Train accuracy is 90.04\n",
      "Test accuracy is 89.77\n"
     ]
    }
   ],
   "source": [
    "# driver to test your NB solver\n",
    "train_acc, test_acc = myNBSolver(trainX, trainY, testX, testY)\n",
    "print(\"Train accuracy is %.2f\" %(train_acc * 100))\n",
    "print(\"Test accuracy is %.2f\" %(test_acc * 100))"
   ]
  },
  {
   "cell_type": "markdown",
   "metadata": {},
   "source": [
    "## P3. Test your result using sklearn\n",
    "### TODO\n",
    "- Finish the skNBSolver() function. \n",
    "     - fit model, make prediction and return accuracy for train and test sets."
   ]
  },
  {
   "cell_type": "code",
   "execution_count": 15,
   "metadata": {},
   "outputs": [],
   "source": [
    "def skNBSolver(trainX, trainY, testX, testY):\n",
    "    \n",
    "    #### TODO ####\n",
    "    # fit model\n",
    "    # make prediction\n",
    "    # compute accuracy\n",
    "    classifier = GaussianNB()\n",
    "    cls_nb = classifier.fit(trainX, trainY)\n",
    "    sk_train_acc = cls_nb.score(trainX, trainY)\n",
    "    sk_test_acc = cls_nb.score(testX, testY)\n",
    "    \n",
    "    ##############\n",
    "    return sk_train_acc, sk_test_acc\n",
    "    "
   ]
  },
  {
   "cell_type": "code",
   "execution_count": 16,
   "metadata": {},
   "outputs": [
    {
     "name": "stdout",
     "output_type": "stream",
     "text": [
      "Train accuracy is 90.04\n",
      "Test accuracy is 89.77\n"
     ]
    }
   ],
   "source": [
    "# driver to test skNBSolver\n",
    "sk_train_acc, sk_test_acc = skNBSolver(trainX, trainY, testX, testY)\n",
    "print(\"Train accuracy is %.2f\" %(sk_train_acc * 100))\n",
    "print(\"Test accuracy is %.2f\" %(sk_test_acc * 100))"
   ]
  },
  {
   "cell_type": "code",
   "execution_count": null,
   "metadata": {},
   "outputs": [],
   "source": []
  }
 ],
 "metadata": {
  "kernelspec": {
   "display_name": "Python 3",
   "language": "python",
   "name": "python3"
  },
  "language_info": {
   "codemirror_mode": {
    "name": "ipython",
    "version": 3
   },
   "file_extension": ".py",
   "mimetype": "text/x-python",
   "name": "python",
   "nbconvert_exporter": "python",
   "pygments_lexer": "ipython3",
   "version": "3.8.3"
  }
 },
 "nbformat": 4,
 "nbformat_minor": 2
}
