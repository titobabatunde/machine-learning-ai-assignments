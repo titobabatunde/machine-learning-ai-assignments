{
 "cells": [
  {
   "cell_type": "markdown",
   "metadata": {},
   "source": [
    "## OpenAI Gym Warm-Up"
   ]
  },
  {
   "cell_type": "code",
   "execution_count": 297,
   "metadata": {},
   "outputs": [
    {
     "name": "stdout",
     "output_type": "stream",
     "text": [
      "State space of the Env:  16\n",
      "State space of the Env by accessing env.nS:  16\n",
      "Action space of the Env:  4\n"
     ]
    }
   ],
   "source": [
    "# Import Environment class and Libraries\n",
    "from frozen_lake import FrozenLakeEnv\n",
    "import numpy as np\n",
    "import sys\n",
    "import matplotlib.pyplot as plt\n",
    "import time\n",
    "\n",
    "\n",
    "# Create Environment Object\n",
    "env = FrozenLakeEnv(map_name =\"4x4\", is_slippery=False)\n",
    "\n",
    "\n",
    "# Access the number of states:\n",
    "nS = env.observation_space\n",
    "print(\"State space of the Env: \", nS)\n",
    "\n",
    "# or you could even use \n",
    "nS = env.nS\n",
    "print(\"State space of the Env by accessing env.nS: \", nS)\n",
    "\n",
    "\n",
    "# Action space of the agent:\n",
    "nA = env.nA\n",
    "print(\"Action space of the Env: \", nA)"
   ]
  },
  {
   "cell_type": "code",
   "execution_count": 298,
   "metadata": {},
   "outputs": [
    {
     "name": "stdout",
     "output_type": "stream",
     "text": [
      "Transition Probabilty:  1.0\n",
      "Next State:  8\n",
      "Reward:  0.0\n",
      "Episode ended? :  False\n"
     ]
    }
   ],
   "source": [
    "\"\"\"\n",
    "For policy iteration, you would need to access\n",
    "State(s), Action(a), Next State(ns), Reward(r), episode ended? (is_done) tuples.\n",
    "\n",
    "Note that in this environment, the orientation of the agent does not matter.\n",
    "No matter what direction the agent is facing, if, say a left action is performed, \n",
    "the agent moves to the left of the crrent state.\n",
    "\"\"\"\n",
    "\n",
    "# For actions, this is the corresponding dictionary:\n",
    "action_names = {0:'L', 1:'D', 2:\"R\", 3:\"U\"}\n",
    "\n",
    "\"\"\"\n",
    "Here, \n",
    "'L' means left\n",
    "'D' means down\n",
    "'R' means right\n",
    "'U' means up\n",
    "\n",
    "\n",
    "\n",
    "You can access these tuples by simply env.P[s][a].\n",
    "where 's' is state, and 'a' is action. For example, let's say we are at state '4',\n",
    "and we take an action '1' or \"Down\". The next state (ns) would be 8, the episode would not have ended (is_done), \n",
    "the reward (r) is 0 and the transition probabilty (prob) is 1 because this is a deterministic setting.\n",
    "\"\"\"\n",
    "\n",
    "prob, ns, r, is_done = env.P[4][1][0]\n",
    "\n",
    "print(\"Transition Probabilty: \", prob)\n",
    "print(\"Next State: \", ns)\n",
    "print(\"Reward: \", r)\n",
    "print(\"Episode ended? : \", is_done)\n",
    "# Note that we need to add a [0] after env.P[s][a] because it returns a list containing the tuple"
   ]
  },
  {
   "cell_type": "markdown",
   "metadata": {},
   "source": [
    "## Policy Iteration \n",
    "\n",
    "- Follow the pseudo-code given in the handout for this section"
   ]
  },
  {
   "cell_type": "code",
   "execution_count": 317,
   "metadata": {},
   "outputs": [
    {
     "name": "stdout",
     "output_type": "stream",
     "text": [
      "D\n"
     ]
    }
   ],
   "source": [
    "action_names = {0:'L', 1:'D', 2:\"R\", 3:\"U\"}\n",
    "print(action_names[1])\n",
    "# policy = np.random.randint(0, 4, size=env.nS)\n",
    "# print(enumerate(policy))\n",
    "\n",
    "\n",
    "# # pi = np.zeros(env.nS, dtype=int)\n",
    "# # print(pi)\n",
    "# print(pi.reshape([4,-1]))\n",
    "# pi = np.array([1,2,1,0,1,0,1,0,2,1,1,0,0,2,2,0])\n",
    "# print(pi.reshape([4,-1]))\n",
    "# states = 16\n",
    "# policy_print = np.array([action_names[x] for x in pi])\n",
    "# print(np.array(policy_print).reshape([-1,4]))\n",
    "\n",
    "def print_policy(policy, action_names, states):\n",
    "    \"\"\"Print the policy in human-readable format.\n",
    "    If you've implemented this correctly, the output (for 4x4 map) should be:\n",
    "    \n",
    "    D R D L \n",
    "    D L D L \n",
    "    R D D L \n",
    "    L R R L \n",
    "    \n",
    "    Parameters\n",
    "    ----------\n",
    "    policy: np.ndarray\n",
    "        Array of state to action number mappings\n",
    "    action_names: dict\n",
    "        Mapping of action numbers to characters representing the action.\n",
    "    num_states: int\n",
    "        Number of states in the FrozenLakeEnvironment (16 or 64 for 4x4 or 8x8 maps respectively)      \n",
    "    \"\"\"\n",
    "    # WRITE YOUR CODE HERE:\n",
    "    fig, ax = plt.subplots()\n",
    "    ax.matshow(policy.reshape([-1,4]), cmap='YlGnBu')\n",
    "    for (i,j), z in np.ndenumerate(policy.reshape([-1,4])):\n",
    "        ax.text(j, i, action_names[z], ha='center',va='center')\n",
    "    plt.show()\n",
    "#     pi_read = np.array([action_names[x] for x in policy])\n",
    "#     print(np.array(pi_read).reshape([-1,4]))\n",
    "#     pass\n",
    "        "
   ]
  },
  {
   "cell_type": "code",
   "execution_count": 300,
   "metadata": {},
   "outputs": [],
   "source": [
    "def one_step_lookahead(env, state, value_func, gamma):\n",
    "    \"\"\"\n",
    "    Helps calculate the value for all action in a given state.\n",
    "\n",
    "    Parameters\n",
    "    ----------\n",
    "    env: Frozen Lake Environment\n",
    "      The environment to comput value iteration for.\n",
    "    state: int\n",
    "      The state to consider.\n",
    "    value_func: np.array\n",
    "      The value function to use as an estimator.\n",
    "    gamma: float\n",
    "      Discount factor, must be in range [0, 1)\n",
    "\n",
    "    Returns\n",
    "    -------\n",
    "    A: np.array\n",
    "      A vector of length env.nA containing the expected value of \n",
    "      each iteration\n",
    "    \"\"\"\n",
    "#     A = np.zeros(env.nA)\n",
    "#     val = 0\n",
    "#     for a in range(env.nA):\n",
    "#         for prob, next_state, reward, done in env.model[state][a]:\n",
    "#             val += prob *(reward + gamma*value_func[next_state])\n",
    "#         A[a] = val\n",
    "    action_values = []\n",
    "    state_value = 0\n",
    "    for action in range(env.nA):\n",
    "        for i in range(len(env.P[state][action])):\n",
    "            prob, next_state, reward, done = env.P[state][action][i]\n",
    "            state_action_value = prob * reward + (gamma*value_func[next_state])\n",
    "            state_value += state_action_value\n",
    "        action_values.append(state_value)\n",
    "            \n",
    "    return np.asarray(action_values)\n",
    "\n",
    "def q_value(env, s, value_func, gamma):\n",
    "    q = np.zeros(env.nA)\n",
    "    for a in range(env.nA):\n",
    "        for prob, next_state, reward, done in env.P[s][a]:\n",
    "            q[a] += prob*(reward + gamma * value_func[next_state])\n",
    "    return q\n",
    "\n",
    "# Q = np.zeros([env.nA, env.sA])\n",
    "# for s in range(env.nS):\n",
    "#     Q[s] = q_value(env, V, s)\n",
    "# print(Q)"
   ]
  },
  {
   "cell_type": "code",
   "execution_count": 306,
   "metadata": {},
   "outputs": [
    {
     "name": "stdout",
     "output_type": "stream",
     "text": [
      "  (Down)\n",
      "SFFF\n",
      "\u001b[41mF\u001b[0mHFH\n",
      "FFFH\n",
      "HFFG\n",
      "  (Down)\n",
      "SFFF\n",
      "FHFH\n",
      "\u001b[41mF\u001b[0mFFH\n",
      "HFFG\n",
      "  (Down)\n",
      "SFFF\n",
      "FHFH\n",
      "FFFH\n",
      "\u001b[41mH\u001b[0mFFG\n",
      "[1.       1.99     2.9701   6.880798 1.       1.       2.98     1.\n",
      " 1.       2.98     1.       1.       1.       1.99     2.9701   1.      ]\n",
      "16\n"
     ]
    },
    {
     "data": {
      "image/png": "[encoded data removed]",
      "text/plain": [
       "<Figure size 432x288 with 1 Axes>"
      ]
     },
     "metadata": {
      "needs_background": "light"
     },
     "output_type": "display_data"
    }
   ],
   "source": [
    "def evaluate_policy_sync(env, gamma, policy, value_func, max_iterations=int(1e3), tol=1e-3):\n",
    "    \"\"\"Performs policy evaluation.\n",
    "    \n",
    "    Evaluates the value of a given policy.\n",
    "\n",
    "    Parameters\n",
    "    ----------\n",
    "    env: Frozen Lake Environment\n",
    "      The environment to compute value iteration for.\n",
    "    gamma: float\n",
    "      Discount factor, must be in range [0, 1)\n",
    "    policy: np.array\n",
    "      The policy to evaluate. Maps states to actions.\n",
    "    value_func: np.array\n",
    "      Array of scalar values for each state\n",
    "    max_iterations: int\n",
    "      The maximum number of iterations to run before stopping.\n",
    "    tol: float\n",
    "      Determines when value function has converged.\n",
    "\n",
    "    Returns\n",
    "    -------\n",
    "    np.ndarray, int\n",
    "      The value for the given policy and the number of iterations till\n",
    "      the value function converged.\n",
    "    \"\"\"\n",
    "    val_iter=0\n",
    "    new_value_func = np.zeros(env.nS)\n",
    "    for val_iter in range(max_iterations): \n",
    "        delta = 0\n",
    "        # For each state, perform a \"full backup\"\n",
    "        for s in range(env.nS):\n",
    "            Vs = 1\n",
    "            for a, action_prob in enumerate([policy[s]]):\n",
    "                for prob, next_state, reward, done in env.P[s][a]:\n",
    "                    if next_state == s:\n",
    "                        Vs += reward\n",
    "                    else:\n",
    "                        Vs += action_prob * prob * (reward + gamma * value_func[next_state])\n",
    "            delta = max(delta, np.abs(value_func[s] - Vs))\n",
    "            value_func[s] = Vs\n",
    "        if delta < tol:\n",
    "            break\n",
    "    return value_func, val_iter\n",
    "    \n",
    "#     val_iter=0\n",
    "#     new_value_func = np.zeros(env.nS)\n",
    "#     for val_iter in range(max_iterations): \n",
    "#         delta = 0\n",
    "#         # For each state, perform a \"full backup\"\n",
    "#         for s in range(env.nS):\n",
    "#             old_value = value_func\n",
    "#             a = policy[s]\n",
    "#             for prob, next_state, reward, done in env.P[s][a]:\n",
    "#                 if next_state == s:\n",
    "#                     new_value_func[s] = reward\n",
    "#                 else:\n",
    "#                     new_value_func[s] = action_prob * prob * (reward + gamma * value_func[next_state])\n",
    "#             delta = np.abs(old_value - new_value_func)\n",
    "#         if np.all(delta < tol):\n",
    "#             break\n",
    "#     return new_value_func, val_iter\n",
    "\n",
    "env = FrozenLakeEnv(map_name =\"4x4\", is_slippery=False)\n",
    "env.reset()\n",
    "action = 1\n",
    "(observation, reward, done, prob) = env.step(action)\n",
    "env.render()\n",
    "action = 1\n",
    "(observation, reward, done, prob) = env.step(action)\n",
    "env.render()\n",
    "action = 1\n",
    "(observation, reward, done, prob) = env.step(action)\n",
    "env.render()\n",
    "\n",
    "\n",
    "# Checking #\n",
    "policy = np.random.randint(0, 4, size=env.nS)\n",
    "value_func = np.zeros(env.nS)\n",
    "gamma = 0.99\n",
    "V, val_iter = evaluate_policy_sync(env, gamma, policy, value_func)\n",
    "print(V)\n",
    "import seaborn as sns\n",
    "plt.figure()\n",
    "sns.heatmap(V.reshape(4,4), cmap='YlGnBu', annot=True, cbar=False)\n",
    "S_n = env.observation_space\n",
    "A_n = env.action_space\n",
    "print(S_n)\n",
    "\n",
    "\n"
   ]
  },
  {
   "cell_type": "code",
   "execution_count": 302,
   "metadata": {},
   "outputs": [],
   "source": [
    "def improve_policy(env, gamma, value_func, policy):\n",
    "    \"\"\"Performs policy improvement.\n",
    "    \n",
    "    Given a policy and value function, improves the policy.\n",
    "\n",
    "    Parameters\n",
    "    ----------\n",
    "    env: Frozen Lake Environment\n",
    "      The environment to compute value iteration for.\n",
    "    gamma: float\n",
    "      Discount factor, must be in range [0, 1)\n",
    "    value_func: np.ndarray\n",
    "      Value function for the given policy.\n",
    "    policy: dict or np.array\n",
    "      The policy to improve. Maps states to actions.\n",
    "\n",
    "    Returns\n",
    "    -------\n",
    "    bool, np.ndarray\n",
    "      Returns the new imporved policy.\n",
    "    \"\"\"\n",
    "    for s in range(env.nS):\n",
    "        old_action = policy[s]\n",
    "        action_values = q_value(env, s, value_func, gamma)\n",
    "        policy[s] = np.argmax(action_values)\n",
    "        \n",
    "    return policy\n",
    "\n",
    "#     return new_policy"
   ]
  },
  {
   "cell_type": "code",
   "execution_count": 303,
   "metadata": {},
   "outputs": [],
   "source": [
    "import copy\n",
    "def policy_iteration_sync(env, gamma, max_iterations=int(1e3), tol=1e-3):\n",
    "    \"\"\"Runs policy iteration.\n",
    "\n",
    "    See page 85 of the Sutton & Barto Second Edition book.\n",
    "\n",
    "    You should call the improve_policy() and evaluate_policy_sync() methods to\n",
    "    implement this method.\n",
    "    \n",
    "    If you've implemented this correctly, it should take much less than 1 second.\n",
    "    \n",
    "    Parameters\n",
    "    ----------\n",
    "    env: Frozen Lake Environment\n",
    "      The environment to compute value iteration for.\n",
    "    gamma: float\n",
    "      Discount factor, must be in range [0, 1)\n",
    "    max_iterations: int\n",
    "      The maximum number of iterations to run before stopping.\n",
    "    tol: float\n",
    "      Determines when value function has converged.\n",
    "\n",
    "    Returns\n",
    "    -------\n",
    "    (np.ndarray, np.ndarray, int, int)\n",
    "       Returns optimal policy, value function, number of policy\n",
    "       improvement iterations, and number of value iterations.\n",
    "    \"\"\"\n",
    "    \n",
    "    policy = np.random.randint(0, 4, size=env.nS)   #Define random policy\n",
    "    value_func = np.zeros(env.nS)    # Define initial value function\n",
    "    num_pol_iter = 0\n",
    "    num_val_iter = 0\n",
    "    value_iter_list = []\n",
    "    for i in range(max_iterations):\n",
    "        value_func, val_iter = evaluate_policy_sync(env, gamma, policy, value_func)\n",
    "        num_val_iter += val_iter\n",
    "        value_iter_list.append(value_func)\n",
    "        new_policy = improve_policy(env, gamma, value_func, policy)\n",
    "        num_pol_iter +=1\n",
    "        policy=new_policy.copy()\n",
    "        delta = policy-new_policy\n",
    "        if delta.all() < tol:\n",
    "            break\n",
    "        \n",
    "        \n",
    "\n",
    "    return policy, value_func, num_pol_iter, num_val_iter, value_iter_list"
   ]
  },
  {
   "cell_type": "code",
   "execution_count": 318,
   "metadata": {
    "scrolled": false
   },
   "outputs": [
    {
     "name": "stdout",
     "output_type": "stream",
     "text": [
      "The running time for value iterations is  0.0008482933044433594  seconds\n",
      "1\n",
      "1\n"
     ]
    },
    {
     "data": {
      "image/png": "[encoded data removed]",
      "text/plain": [
       "<Figure size 432x288 with 1 Axes>"
      ]
     },
     "metadata": {
      "needs_background": "light"
     },
     "output_type": "display_data"
    },
    {
     "name": "stdout",
     "output_type": "stream",
     "text": [
      "[[ 1.        1.99      6.9103   21.523591]\n",
      " [ 1.        1.        3.97      1.      ]\n",
      " [ 1.        1.99      6.9103    1.      ]\n",
      " [ 1.        2.98      1.        1.      ]]\n"
     ]
    },
    {
     "data": {
      "image/png": "[encoded data removed]",
      "text/plain": [
       "<Figure size 432x288 with 1 Axes>"
      ]
     },
     "metadata": {
      "needs_background": "light"
     },
     "output_type": "display_data"
    }
   ],
   "source": [
    "# from plot_utils import plot_values\n",
    "def main():\n",
    "    \n",
    "    # WRITE YOUR CODE HERE:\n",
    "    env = FrozenLakeEnv(map_name =\"4x4\", is_slippery=False)\n",
    "    gamma = 0.99\n",
    "    startTime = time.time()\n",
    "    policy, value_func, num_pol_iter, num_val_iter, value_iter_list = policy_iteration_sync(env, gamma)\n",
    "    \n",
    "    endTime = time.time()\n",
    "    print(\"The running time for value iterations is \", endTime-startTime, ' seconds')\n",
    "    print(num_pol_iter)\n",
    "    print(num_val_iter)\n",
    "    action_names = {0:'L', 1:'D', 2:\"R\", 3:\"U\"}\n",
    "    print_policy(policy, action_names, env.nS)\n",
    "    print(value_func.reshape([-1,4]))\n",
    "    \n",
    "    fig = plt.figure()\n",
    "    ax = fig.add_subplot(111)\n",
    "    plt.title('Value Function of the policy')\n",
    "    ax.matshow(value_func.reshape([-1,4]), cmap='YlGnBu')\n",
    "    \n",
    "#     plot_values(value_func)\n",
    "    \n",
    "#     env.render()\n",
    "#     obs, reward, done, _ = env.step(policy[env.s])\n",
    "#     while done is False:\n",
    "#         env.render()\n",
    "#         obs, reward, done, _, env.step(policy[obs])\n",
    "#     env.render()\n",
    "# Plot a graph showing the value function of all states as a function of number of policy iterations\n",
    "# for 4 by 4 maps.  \n",
    "\n",
    "\n",
    "    \n",
    "if __name__ == \"__main__\":\n",
    "    main()"
   ]
  },
  {
   "cell_type": "code",
   "execution_count": null,
   "metadata": {},
   "outputs": [],
   "source": []
  },
  {
   "cell_type": "code",
   "execution_count": null,
   "metadata": {},
   "outputs": [],
   "source": []
  },
  {
   "cell_type": "code",
   "execution_count": null,
   "metadata": {},
   "outputs": [],
   "source": []
  },
  {
   "cell_type": "code",
   "execution_count": null,
   "metadata": {},
   "outputs": [],
   "source": []
  }
 ],
 "metadata": {
  "kernelspec": {
   "display_name": "Python 3",
   "language": "python",
   "name": "python3"
  },
  "language_info": {
   "codemirror_mode": {
    "name": "ipython",
    "version": 3
   },
   "file_extension": ".py",
   "mimetype": "text/x-python",
   "name": "python",
   "nbconvert_exporter": "python",
   "pygments_lexer": "ipython3",
   "version": "3.8.3"
  }
 },
 "nbformat": 4,
 "nbformat_minor": 2
}
