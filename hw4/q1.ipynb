{
 "cells": [
  {
   "cell_type": "markdown",
   "metadata": {},
   "source": [
    "# Principal Component Analysis\n",
    "The goal of this question is to build a conceptual understanding of dimensionality reduction using PCA and implement it on a toy dataset. You’ll only have to use numpy and matplotlib for this question."
   ]
  },
  {
   "cell_type": "code",
   "execution_count": 3,
   "metadata": {},
   "outputs": [],
   "source": [
    "import numpy as np\n",
    "import matplotlib.pyplot as plt\n",
    "# (a) Load data (features)\n",
    "def load_data():\n",
    "    x = np.load('features.npy', allow_pickle=True)\n",
    "    #standardizes each column individually\n",
    "    data = (x-np.mean(x, axis=0))/np.std(x, axis=0)\n",
    "    return data"
   ]
  },
  {
   "cell_type": "code",
   "execution_count": 4,
   "metadata": {},
   "outputs": [],
   "source": [
    "# (b) Perform eigen decomposition and return eigen pairs in desecending order of eigen values\n",
    "def eigendecomp(X):\n",
    "    #takes in standardized data set as input\n",
    "    #computes the covariance matrix\n",
    "    c_matrix = np.cov(X, rowvar=False)\n",
    "    #include the eigenvalues in your report\n",
    "    eig_vals, eig_vecs = np.linalg.eig(c_matrix)\n",
    "\n",
    "    #returns the sorted eigenvalues in descending order and the corresdponding eigenvectors\n",
    "    sorted_idx = np.argsort(eig_vals)[::-1]\n",
    "    sorted_eig_vals = eig_vals[sorted_idx]\n",
    "    sorted_eig_vecs = eig_vecs[:,sorted_idx]\n",
    "    return (sorted_eig_vals, sorted_eig_vecs)"
   ]
  },
  {
   "cell_type": "code",
   "execution_count": 12,
   "metadata": {},
   "outputs": [],
   "source": [
    "# (c) Evaluate using variance_explained as the metric\n",
    "#iterates through dimesionality k from 1 to the no. of dimensions in the input features\n",
    "#computes the vriance explained on reducing the dimensionality to k (b)\n",
    "def eval():\n",
    "    X = load_data()\n",
    "    k = X.shape[1] +1\n",
    "    sorted_eig_vals, sorted_eig_vecs = eigendecomp(X)\n",
    "    print('   variance     eig_vals')\n",
    "    #iterate through dimensionality k from 1 to no. of dimensions in the input features\n",
    "    for i in range(1, k):\n",
    "        #include the eigenvalues for each k in your report\n",
    "        variance = (np.sum(np.abs(sorted_eig_vals[:i]))/np.sum(np.abs(sorted_eig_vals))).round(2)*100\n",
    "        #Print the variance explained as a function of k\n",
    "        print('k:', i, '=>', variance, '%,', sorted_eig_vals[:i])\n",
    "    #which value would you pick and why\n",
    "    print(\"I would pick k=3 because it represents the data well with a low loss \\nof only 3% in data representation, and greatly no. of the feature size\")\n"
   ]
  },
  {
   "cell_type": "code",
   "execution_count": 13,
   "metadata": {},
   "outputs": [],
   "source": [
    "#Write a function that projects the original data to a 2‐dimensional feature subspace   \n",
    "def viz():\n",
    "    X = load_data()\n",
    "    k = 2\n",
    "    sorted_eig_vals, sorted_eig_vecs = eigendecomp(X)\n",
    "    eig_vals_set = sorted_eig_vecs[:, 0:k]\n",
    "    X_reduced = np.dot(eig_vals_set.T, X.T).T\n",
    "    # print(X_reduced)\n",
    "    \n",
    "    #load the labels\n",
    "    y = np.load('labels.npy', allow_pickle=True)#.reshape(-1, 1)\n",
    "    colors = ['r', 'b', 'g']\n",
    "    markers = ['o', 'o', 'o']\n",
    "    for l, c, m in zip(np.unique(y), colors, markers):\n",
    "        #plot the 2D representation as a scatter plot with labels as legends\n",
    "        plt.scatter(X_reduced[y==l,0], X_reduced[y==l, 1], c=c, label='label '+str(l), marker=m)\n",
    "    plt.xlabel('PC 1')\n",
    "    plt.ylabel('PC 2')\n",
    "    plt.title('Data in 2-D subspace')\n",
    "    plt.legend(loc='upper left')\n",
    "    plt.show()\n"
   ]
  },
  {
   "cell_type": "code",
   "execution_count": 14,
   "metadata": {},
   "outputs": [
    {
     "name": "stdout",
     "output_type": "stream",
     "text": [
      "   variance     eig_vals\n",
      "k: 1 => 59.0 %, [4.74298961]\n",
      "k: 2 => 87.0 %, [4.74298961 2.29585309]\n",
      "k: 3 => 97.0 %, [4.74298961 2.29585309 0.77691051]\n",
      "k: 4 => 100.0 %, [4.74298961 2.29585309 0.77691051 0.2041729 ]\n",
      "k: 5 => 100.0 %, [4.74298961 2.29585309 0.77691051 0.2041729  0.03376517]\n",
      "k: 6 => 100.0 %, [4.74298961e+00 2.29585309e+00 7.76910512e-01 2.04172901e-01\n",
      " 3.37651661e-02 5.43907795e-17]\n",
      "k: 7 => 100.0 %, [ 4.74298961e+00  2.29585309e+00  7.76910512e-01  2.04172901e-01\n",
      "  3.37651661e-02  5.43907795e-17 -1.85461428e-16]\n",
      "k: 8 => 100.0 %, [ 4.74298961e+00  2.29585309e+00  7.76910512e-01  2.04172901e-01\n",
      "  3.37651661e-02  5.43907795e-17 -1.85461428e-16 -5.77463648e-16]\n",
      "I would pick k=3 because it represents the data well with a low loss \n",
      "of only 3% in data representation, and greatly no. of the feature size\n"
     ]
    },
    {
     "data": {
      "image/png": "[encoded data removed]",
      "text/plain": [
       "<Figure size 432x288 with 1 Axes>"
      ]
     },
     "metadata": {
      "needs_background": "light"
     },
     "output_type": "display_data"
    }
   ],
   "source": [
    "def main():\n",
    "\n",
    "    eval()\n",
    "    viz()\n",
    "\n",
    "if __name__ == \"__main__\":\n",
    "    main()"
   ]
  },
  {
   "cell_type": "raw",
   "metadata": {},
   "source": [
    "(e1): If the number of features is 1000 and the number of data points is 10, what will be the dimension of your covariance matrix? Can you suggest what can be changed to improve the performance?"
   ]
  },
  {
   "cell_type": "raw",
   "metadata": {},
   "source": [
    "The covariance matrix will be of order 1000x1000. Principal component analysis can be implemented to improve the performance since there is a high probability that all the features have a significant percentage of data reduction. By implementing step (C) we will be able to see which features have significant data representation by iterating through dimensionality k from 1 to the 1000 and calculating their respective variance. Doing this will reduce the dimensionality to k, which is the number of significant features. This will greatly improve the performance. "
   ]
  },
  {
   "cell_type": "raw",
   "metadata": {},
   "source": [
    "(e2): Assume you have a dataset with the original dimensionality as 2 and you have to reduce it to 1. Provide a sample scatter plot of the original data (less than 10 datapoints) where PCA might produce misleading results. You can plot it by hand and then take a picture. In the next cell, switch to Markdown mode and use the command: ![title](<your_plot_file_path>)"
   ]
  },
  {
   "cell_type": "markdown",
   "metadata": {},
   "source": [
    "![title](plotqe2_1.png)\n"
   ]
  },
  {
   "cell_type": "code",
   "execution_count": null,
   "metadata": {},
   "outputs": [],
   "source": []
  }
 ],
 "metadata": {
  "kernelspec": {
   "display_name": "Python 3",
   "language": "python",
   "name": "python3"
  },
  "language_info": {
   "codemirror_mode": {
    "name": "ipython",
    "version": 3
   },
   "file_extension": ".py",
   "mimetype": "text/x-python",
   "name": "python",
   "nbconvert_exporter": "python",
   "pygments_lexer": "ipython3",
   "version": "3.8.3"
  }
 },
 "nbformat": 4,
 "nbformat_minor": 2
}
