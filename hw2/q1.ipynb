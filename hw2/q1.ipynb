{
 "cells": [
  {
   "cell_type": "code",
   "execution_count": 3,
   "metadata": {},
   "outputs": [
    {
     "name": "stdout",
     "output_type": "stream",
     "text": [
      "a= \n",
      " [[[2 6 4 1]\n",
      "  [0 4 4 3]\n",
      "  [6 6 1 2]\n",
      "  [7 0 6 5]]\n",
      "\n",
      " [[1 3 3 7]\n",
      "  [4 7 2 5]\n",
      "  [0 4 6 7]\n",
      "  [5 5 7 1]]\n",
      "\n",
      " [[7 2 4 5]\n",
      "  [6 7 7 0]\n",
      "  [6 2 0 4]\n",
      "  [2 0 7 6]]]\n",
      "shape:  (3, 4, 4)\n"
     ]
    }
   ],
   "source": [
    "import numpy as np\n",
    "import sys\n",
    "import time\n",
    "\n",
    "np.random.seed(24787)\n",
    "a = np.random.randint(8, size=(3, 4, 4)) #(depth, rows, columns)\n",
    "print('a= \\n', a)\n",
    "print('shape: ', a.shape)"
   ]
  },
  {
   "cell_type": "code",
   "execution_count": 4,
   "metadata": {},
   "outputs": [
    {
     "name": "stdout",
     "output_type": "stream",
     "text": [
      "b= \n",
      " [[[2 6 4 1 2 6 4 1]\n",
      "  [0 4 4 3 0 4 4 3]\n",
      "  [6 6 1 2 6 6 1 2]\n",
      "  [7 0 6 5 7 0 6 5]\n",
      "  [2 6 4 1 2 6 4 1]\n",
      "  [0 4 4 3 0 4 4 3]\n",
      "  [6 6 1 2 6 6 1 2]\n",
      "  [7 0 6 5 7 0 6 5]]\n",
      "\n",
      " [[1 3 3 7 1 3 3 7]\n",
      "  [4 7 2 5 4 7 2 5]\n",
      "  [0 4 6 7 0 4 6 7]\n",
      "  [5 5 7 1 5 5 7 1]\n",
      "  [1 3 3 7 1 3 3 7]\n",
      "  [4 7 2 5 4 7 2 5]\n",
      "  [0 4 6 7 0 4 6 7]\n",
      "  [5 5 7 1 5 5 7 1]]\n",
      "\n",
      " [[7 2 4 5 7 2 4 5]\n",
      "  [6 7 7 0 6 7 7 0]\n",
      "  [6 2 0 4 6 2 0 4]\n",
      "  [2 0 7 6 2 0 7 6]\n",
      "  [7 2 4 5 7 2 4 5]\n",
      "  [6 7 7 0 6 7 7 0]\n",
      "  [6 2 0 4 6 2 0 4]\n",
      "  [2 0 7 6 2 0 7 6]]]\n",
      "shape:  (3, 8, 8)\n"
     ]
    }
   ],
   "source": [
    "b = np.tile(a, (1, 2, 2))\n",
    "print('b= \\n', b)\n",
    "print('shape: ', b.shape)"
   ]
  },
  {
   "cell_type": "code",
   "execution_count": 6,
   "metadata": {},
   "outputs": [
    {
     "name": "stdout",
     "output_type": "stream",
     "text": [
      "c=  [228 268 260]\n"
     ]
    }
   ],
   "source": [
    "c = []\n",
    "for dpth in b:\n",
    "    sum_rw = 0\n",
    "    for rw in dpth:\n",
    "        sum_rw += np.sum(rw)\n",
    "        # print(sum_rw)\n",
    "    c.append(sum_rw)\n",
    "    # print(sum_rw)\n",
    "c = np.array(c)\n",
    "print('c= ', c)"
   ]
  },
  {
   "cell_type": "code",
   "execution_count": 7,
   "metadata": {},
   "outputs": [
    {
     "name": "stdout",
     "output_type": "stream",
     "text": [
      "[[12146. 12253. 12302. ... 12123. 12415. 12239.]\n",
      " [12251. 12131. 12180. ... 12691. 12396. 12497.]\n",
      " [11434. 11864. 12043. ... 12348. 11960. 12207.]\n",
      " ...\n",
      " [11774. 11945. 12276. ... 12339. 12178. 12059.]\n",
      " [11627. 12167. 12254. ... 11929. 11958. 12078.]\n",
      " [11560. 12145. 12077. ... 12210. 12124. 12031.]]\n",
      "1562.5061054229736 seconds\n"
     ]
    }
   ],
   "source": [
    "np.random.seed(24787)\n",
    "a = np.random.randint(low=0, high=8, size=(1000,1000))\n",
    "b = np.random.randint(low=0, high=8, size=(1000,1000))\n",
    "\n",
    "\n",
    "            \n",
    "def matmul(a, b):\n",
    "    #performs a matrix multiplication taking dot product manually...\n",
    "    a_shape = a.shape\n",
    "    b_shape = b.shape\n",
    "    mult = np.empty([a_shape[0], b_shape[1]])\n",
    "    if a_shape[1] != b_shape[0]:\n",
    "        sys.exit('size not compatible') \n",
    "    else:\n",
    "        for i in range(len(a)): #row\n",
    "            for j in range(len(b[0])): #column\n",
    "                for k in range(len(b)):\n",
    "                    mult[i][j] += a[i][k] * b[k][j]\n",
    "\n",
    "    return mult\n",
    "start_time = time.time()\n",
    "print(matmul(a, b))\n",
    "\n",
    "print(\"%s seconds\" %(time.time() - start_time))"
   ]
  },
  {
   "cell_type": "code",
   "execution_count": 8,
   "metadata": {},
   "outputs": [
    {
     "name": "stdout",
     "output_type": "stream",
     "text": [
      "[[12146 12253 12302 ... 12123 12415 12239]\n",
      " [12251 12131 12180 ... 12691 12396 12497]\n",
      " [11434 11864 12043 ... 12348 11960 12207]\n",
      " ...\n",
      " [11774 11945 12276 ... 12339 12178 12059]\n",
      " [11627 12167 12254 ... 11929 11958 12078]\n",
      " [11560 12145 12077 ... 12210 12124 12031]]\n",
      "2.539484739303589 seconds\n"
     ]
    }
   ],
   "source": [
    "start_time = time.time()\n",
    "print(a@b)\n",
    "print(\"%s seconds\" %(time.time() - start_time))"
   ]
  },
  {
   "cell_type": "markdown",
   "metadata": {},
   "source": [
    "The matrix multiplication symbol has smaller memory consumption than the matmul function, which is why it is faster\n"
   ]
  },
  {
   "cell_type": "code",
   "execution_count": null,
   "metadata": {},
   "outputs": [],
   "source": []
  }
 ],
 "metadata": {
  "kernelspec": {
   "display_name": "Python 3",
   "language": "python",
   "name": "python3"
  },
  "language_info": {
   "codemirror_mode": {
    "name": "ipython",
    "version": 3
   },
   "file_extension": ".py",
   "mimetype": "text/x-python",
   "name": "python",
   "nbconvert_exporter": "python",
   "pygments_lexer": "ipython3",
   "version": "3.8.3"
  }
 },
 "nbformat": 4,
 "nbformat_minor": 4
}
